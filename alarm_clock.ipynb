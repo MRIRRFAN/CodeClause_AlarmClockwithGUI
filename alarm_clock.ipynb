{
 "cells": [
  {
   "cell_type": "code",
   "execution_count": 1,
   "id": "a4637728",
   "metadata": {},
   "outputs": [
    {
     "name": "stderr",
     "output_type": "stream",
     "text": [
      "\n",
      "    Error 263 for command:\n",
      "        close music.mp3\n",
      "    The specified device is not open or is not recognized by MCI.\n",
      "Failed to close the file: music.mp3\n"
     ]
    }
   ],
   "source": [
    "import datetime\n",
    "import tkinter as tk\n",
    "from tkinter import messagebox\n",
    "from playsound import playsound\n",
    "\n",
    "def set_alarm():\n",
    "    # Get the hour and minute values from the spinboxes\n",
    "    hour = int(hour_var.get())\n",
    "    minute = int(minute_var.get())\n",
    "\n",
    "    # Get the current time\n",
    "    current_time = datetime.datetime.now().strftime(\"%H:%M\")\n",
    "\n",
    "    # Set the alarm time as a datetime object\n",
    "    alarm_time = datetime.datetime.now().replace(hour=hour, minute=minute)\n",
    "    \n",
    "    # If the alarm time is earlier than the current time, add one day to the alarm time\n",
    "    if alarm_time < datetime.datetime.now():\n",
    "        alarm_time += datetime.timedelta(days=1)\n",
    "\n",
    "    # Calculate the time until the alarm goes off\n",
    "    time_diff = alarm_time - datetime.datetime.now()\n",
    "\n",
    "    # Convert the time difference to seconds\n",
    "    time_diff_seconds = time_diff.total_seconds()\n",
    "\n",
    "    # Set the alarm after the specified time\n",
    "    root.after(int(time_diff_seconds * 1000), alarm_popup)\n",
    "\n",
    "def alarm_popup():\n",
    "    # Play the alarm sound\n",
    "    playsound('music.mp3')\n",
    "\n",
    "    # Show a message box when the alarm goes off\n",
    "    messagebox.showinfo(\"Hey\", \"Its Namaz time!\")\n",
    "\n",
    "# Create the GUI window\n",
    "root = tk.Tk()\n",
    "root.title(\"Alarm Clock by MRIRRFAN\")\n",
    "\n",
    "# Set the background image\n",
    "bg_image = tk.PhotoImage(file=\"image.png\",)\n",
    "bg_label = tk.Label(root, image=bg_image, width=400, height=300)\n",
    "bg_label.pack()\n",
    "\n",
    "# Create the hour spinbox\n",
    "hour_var = tk.StringVar()\n",
    "hour_var.set(\"0\")\n",
    "hour_spinbox = tk.Spinbox(root, from_=0, to=23, textvariable=hour_var)\n",
    "hour_spinbox.pack(side=tk.LEFT, padx=5)\n",
    "\n",
    "# Create the colon separator\n",
    "colon_label = tk.Label(root, text=\":\")\n",
    "colon_label.pack(side=tk.LEFT)\n",
    "\n",
    "# Create the minute spinbox\n",
    "minute_var = tk.StringVar()\n",
    "minute_var.set(\"0\")\n",
    "minute_spinbox = tk.Spinbox(root, from_=0, to=59, textvariable=minute_var)\n",
    "minute_spinbox.pack(side=tk.LEFT, padx=5)\n",
    "\n",
    "# Create the set button\n",
    "set_button = tk.Button(root, text=\"Set Alarm\", command=set_alarm,)\n",
    "set_button.pack(side=tk.LEFT, padx=5)\n",
    "\n",
    "# Start the GUI event loop\n",
    "root.mainloop()\n"
   ]
  },
  {
   "cell_type": "code",
   "execution_count": null,
   "id": "908ad324",
   "metadata": {},
   "outputs": [],
   "source": []
  }
 ],
 "metadata": {
  "kernelspec": {
   "display_name": "Python 3 (ipykernel)",
   "language": "python",
   "name": "python3"
  },
  "language_info": {
   "codemirror_mode": {
    "name": "ipython",
    "version": 3
   },
   "file_extension": ".py",
   "mimetype": "text/x-python",
   "name": "python",
   "nbconvert_exporter": "python",
   "pygments_lexer": "ipython3",
   "version": "3.10.7"
  }
 },
 "nbformat": 4,
 "nbformat_minor": 5
}
